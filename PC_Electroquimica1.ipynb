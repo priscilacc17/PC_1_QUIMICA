{
  "nbformat": 4,
  "nbformat_minor": 0,
  "metadata": {
    "colab": {
      "provenance": [],
      "authorship_tag": "ABX9TyP/qab3iaPKTUYHbPQ6MHYP",
      "include_colab_link": true
    },
    "kernelspec": {
      "name": "python3",
      "display_name": "Python 3"
    },
    "language_info": {
      "name": "python"
    }
  },
  "cells": [
    {
      "cell_type": "markdown",
      "metadata": {
        "id": "view-in-github",
        "colab_type": "text"
      },
      "source": [
        "<a href=\"https://colab.research.google.com/github/priscilacc17/PRACTICAS_QUIMICA/blob/main/PC_Electroquimica1.ipynb\" target=\"_parent\"><img src=\"https://colab.research.google.com/assets/colab-badge.svg\" alt=\"Open In Colab\"/></a>"
      ]
    },
    {
      "cell_type": "markdown",
      "source": [
        "En el siguiente colab se genera un código con la ayuda de la biblioteca sympy con el fin de balancear ecuaciones de typo redox:"
      ],
      "metadata": {
        "id": "XYZwGfz3-FDn"
      }
    },
    {
      "cell_type": "code",
      "execution_count": 2,
      "metadata": {
        "colab": {
          "base_uri": "https://localhost:8080/"
        },
        "id": "4WnUj4fG-Ca3",
        "outputId": "2cf9ac8b-a4af-42e1-d84a-18fcce1607a2"
      },
      "outputs": [
        {
          "output_type": "stream",
          "name": "stdout",
          "text": [
            "Requirement already satisfied: sympy in /usr/local/lib/python3.10/dist-packages (1.12)\n",
            "Requirement already satisfied: mpmath>=0.19 in /usr/local/lib/python3.10/dist-packages (from sympy) (1.3.0)\n"
          ]
        }
      ],
      "source": [
        "!pip install sympy"
      ]
    },
    {
      "cell_type": "code",
      "source": [
        "!pip install chempy"
      ],
      "metadata": {
        "id": "StWYQyCL_OCm"
      },
      "execution_count": null,
      "outputs": []
    },
    {
      "cell_type": "code",
      "source": [
        "from sympy import symbols, Eq, solve\n",
        "\n",
        "def balancear_ecuacion_redox(ecuacion):\n",
        "    # Divide la ecuación en reactantes y productos\n",
        "    partes = ecuacion.split('->')\n",
        "    reactantes = partes[0].split('+')\n",
        "    productos = partes[1].split('+')\n",
        "\n",
        "    # Procesa los elementos en los reactantes\n",
        "    reaccion = []\n",
        "    coeficientes = {}\n",
        "    electrones = symbols('e-')\n",
        "    reaccion.append(Eq(electrones, 0))\n",
        "\n",
        "    for elemento in reactantes:\n",
        "        coeficiente = 1\n",
        "        compuesto = elemento.strip()\n",
        "        if len(compuesto) > 0 and compuesto[0].isdigit():\n",
        "            coeficiente = int(compuesto[0])\n",
        "            compuesto = compuesto[1:].strip()\n",
        "        if compuesto == 'e-':\n",
        "            reaccion[0] = Eq(electrones, coeficiente)\n",
        "        else:\n",
        "            coeficientes[compuesto] = symbols(compuesto)\n",
        "            reaccion.append(Eq(coeficientes[compuesto], coeficiente))\n",
        "\n",
        "    # Procesa los elementos en los productos\n",
        "    for elemento in productos:\n",
        "        coeficiente = 1\n",
        "        compuesto = elemento.strip()\n",
        "        if len(compuesto) > 0 and compuesto[0].isdigit():\n",
        "            coeficiente = int(compuesto[0])\n",
        "            compuesto = compuesto[1:].strip()\n",
        "        if compuesto == 'e-':\n",
        "            reaccion[0] = Eq(electrones, -coeficiente)\n",
        "        else:\n",
        "            coeficientes[compuesto] = symbols(compuesto)\n",
        "            reaccion.append(Eq(coeficientes[compuesto], coeficiente))\n",
        "\n",
        "    # Resuelve el sistema de ecuaciones\n",
        "    solucion = solve(reaccion, list(coeficientes.values()))\n",
        "\n",
        "    # coeficientes balanceados\n",
        "    coeficientes_balanceados = {str(key): solucion[key] for key in solucion}\n",
        "    return coeficientes_balanceados\n",
        "\n",
        "\n",
        "ecuacion_quimica = input(\"Ingresa la ecuación química a balancear (usando '->' para separar reactantes y productos): \")\n",
        "\n",
        "# coeficientes balanceados\n",
        "coeficientes_balanceados = balancear_ecuacion_redox(ecuacion_quimica)\n",
        "\n",
        "\n",
        "print(\"Coeficientes balanceados:\")\n",
        "for elemento, coeficiente in coeficientes_balanceados.items():\n",
        "    print(f\"{elemento}: {coeficiente}\")"
      ],
      "metadata": {
        "colab": {
          "base_uri": "https://localhost:8080/"
        },
        "id": "dmTFfF-q-Na-",
        "outputId": "d2ad7909-5225-4987-f983-74d88716d23e"
      },
      "execution_count": 12,
      "outputs": [
        {
          "output_type": "stream",
          "name": "stdout",
          "text": [
            "Ingresa la ecuación química a balancear (usando '->' para separar reactantes y productos): H2S + HNO3 -> S + NO + H2O\n",
            "Coeficientes balanceados:\n",
            "H2O: 1\n",
            "H2S: 1\n",
            "HNO3: 1\n",
            "NO: 1\n",
            "S: 1\n"
          ]
        }
      ]
    }
  ]
}
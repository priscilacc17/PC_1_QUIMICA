{
  "nbformat": 4,
  "nbformat_minor": 0,
  "metadata": {
    "colab": {
      "provenance": [],
      "include_colab_link": true
    },
    "kernelspec": {
      "name": "python3",
      "display_name": "Python 3"
    },
    "language_info": {
      "name": "python"
    }
  },
  "cells": [
    {
      "cell_type": "markdown",
      "metadata": {
        "id": "view-in-github",
        "colab_type": "text"
      },
      "source": [
        "<a href=\"https://colab.research.google.com/github/priscilacc17/PRACTICAS_QUIMICA/blob/main/PC_Ph_MariaPriscilaCarrascalCastro.ipynb\" target=\"_parent\"><img src=\"https://colab.research.google.com/assets/colab-badge.svg\" alt=\"Open In Colab\"/></a>"
      ]
    },
    {
      "cell_type": "markdown",
      "source": [
        "En este cuaderno tenemos 3 códigos que se encargan de hallar el índice de Ph de diferentes ácidos basdo en su ecuación química"
      ],
      "metadata": {
        "id": "xMVSDGupZyC9"
      }
    },
    {
      "cell_type": "code",
      "source": [
        "!pip install chempy"
      ],
      "metadata": {
        "id": "gSetrR6WCAMx"
      },
      "execution_count": null,
      "outputs": []
    },
    {
      "cell_type": "code",
      "source": [
        "import chempy\n",
        "from collections import defaultdict\n",
        "from chempy.equilibria import EqSystem\n",
        "from math import log10"
      ],
      "metadata": {
        "id": "GeQJEkDWbP6M"
      },
      "execution_count": 5,
      "outputs": []
    },
    {
      "cell_type": "markdown",
      "source": [
        "**PH DEL ÁCIDO FLUORHÍDRICO**"
      ],
      "metadata": {
        "id": "VXj1hBmvFHJ0"
      }
    },
    {
      "cell_type": "code",
      "source": [
        "# Ecuación del ácido fluorhídrico\n",
        "eqsys = EqSystem.from_string(\"\"\"HF = H+ + F-; 10**-3.17\n",
        "  H2O = H+ + OH-; 10**-14/55.4\n",
        "  \"\"\")  # pKa(HF) = 3.17 & pKw=14\n",
        "\n",
        "# Resolución del sistema de ecuaciones\n",
        "arr, info, sane = eqsys.root(defaultdict(float, {'H2O': 55.4, 'HF': 1e-2}))\n",
        "\n",
        "# Concentraciones\n",
        "conc = dict(zip(eqsys.substances, arr))\n",
        "\n",
        "# Ph del ácido fluorhídrico\n",
        "print(\"pH: %.2f\" % -log10(conc['H+']))"
      ],
      "metadata": {
        "colab": {
          "base_uri": "https://localhost:8080/"
        },
        "id": "hMiMpDRJFRwU",
        "outputId": "a1cf5339-e937-47a5-9c20-262968361e08"
      },
      "execution_count": 13,
      "outputs": [
        {
          "output_type": "stream",
          "name": "stdout",
          "text": [
            "pH: 2.64\n"
          ]
        }
      ]
    },
    {
      "cell_type": "markdown",
      "source": [
        "**PH DEL ÁCIDO ACÉTICO**"
      ],
      "metadata": {
        "id": "RSJvmtEqFK2a"
      }
    },
    {
      "cell_type": "code",
      "source": [
        "# Ecuación del ácido acético\n",
        "eqsys_acetico = EqSystem.from_string(\"\"\"CH3COOH = H+ + CH3COO-; 10**-4.76\n",
        "  H2O = H+ + OH-; 10**-14/55.4\n",
        "  \"\"\")  # pKa(CH3COOH) = 4.76 & pKw=14\n",
        "\n",
        "# Resolución del sistema de ecuaciones\n",
        "arr_acetico, info_acetico, sane_acetico = eqsys_acetico.root(defaultdict(float, {'H2O': 55.4, 'CH3COOH': 1e-2}))\n",
        "\n",
        "# Concentraciones\n",
        "conc_acetico = dict(zip(eqsys_acetico.substances, arr_acetico))\n",
        "\n",
        "# Ph del ácido ácido acético\n",
        "print(\"pH (Ácido Acético): %.2f\" % -log10(conc_acetico['H+']))"
      ],
      "metadata": {
        "colab": {
          "base_uri": "https://localhost:8080/"
        },
        "id": "Vm6MBu3iWbUX",
        "outputId": "9052d5e7-5d75-4f4c-9158-6e12f90eebcf"
      },
      "execution_count": 14,
      "outputs": [
        {
          "output_type": "stream",
          "name": "stdout",
          "text": [
            "pH (Ácido Acético): 3.39\n"
          ]
        }
      ]
    },
    {
      "cell_type": "markdown",
      "source": [
        "**PH DEL AMONIACO**"
      ],
      "metadata": {
        "id": "NNAN1jw6FLMI"
      }
    },
    {
      "cell_type": "code",
      "source": [
        "# Ecuación del amoníaco\n",
        "eqsys_amoniaco = EqSystem.from_string(\"\"\"NH3 + H2O = NH4+ + OH-; 10**-4.75\n",
        "  H2O = H+ + OH-; 10**-14/55.4\n",
        "  \"\"\")  # pKa(NH4+) = 9.25 & pKw=14\n",
        "\n",
        "# Resolución del sistema de ecuaciones\n",
        "arr_amoniaco, info_amoniaco, sane_amoniaco = eqsys_amoniaco.root(defaultdict(float, {'H2O': 55.4, 'NH3': 1e-2}))\n",
        "\n",
        "# Concentraciones\n",
        "conc_amoniaco = dict(zip(eqsys_amoniaco.substances, arr_amoniaco))\n",
        "\n",
        "# Ph del ácido amoníaco\n",
        "print(\"pH (Amoníaco): %.2f\" % -log10(conc_amoniaco['H+']))"
      ],
      "metadata": {
        "colab": {
          "base_uri": "https://localhost:8080/"
        },
        "id": "hkuCUCHEFVBi",
        "outputId": "44e42b24-499e-463b-f2f5-4bb492587cdc"
      },
      "execution_count": 15,
      "outputs": [
        {
          "output_type": "stream",
          "name": "stdout",
          "text": [
            "pH (Amoníaco): 11.43\n"
          ]
        }
      ]
    }
  ]
}
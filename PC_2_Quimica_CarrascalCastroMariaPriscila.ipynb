{
  "nbformat": 4,
  "nbformat_minor": 0,
  "metadata": {
    "colab": {
      "provenance": [],
      "include_colab_link": true
    },
    "kernelspec": {
      "name": "python3",
      "display_name": "Python 3"
    },
    "language_info": {
      "name": "python"
    },
    "widgets": {
      "application/vnd.jupyter.widget-state+json": {
        "f534de799b644da78a26101835ae8196": {
          "model_module": "faerun-notebook",
          "model_name": "SmilesDrawerModel",
          "model_module_version": "^0.1.5",
          "state": {
            "_dom_classes": [],
            "_model_module": "faerun-notebook",
            "_model_module_version": "^0.1.5",
            "_model_name": "SmilesDrawerModel",
            "_view_count": null,
            "_view_module": "faerun-notebook",
            "_view_module_version": "^0.1.5",
            "_view_name": "SmilesDrawerView",
            "background": "#1e1e1e",
            "border": true,
            "layout": "IPY_MODEL_84fdd4dbf5294e09b28a6da52c6edb8b",
            "options": {
              "scale": 1.25
            },
            "output": "svg",
            "theme": "dark",
            "value": [
              [
                "Rxn",
                "CC=CC.O=O>>C(=O)=O.O"
              ]
            ]
          }
        },
        "84fdd4dbf5294e09b28a6da52c6edb8b": {
          "model_module": "@jupyter-widgets/base",
          "model_name": "LayoutModel",
          "model_module_version": "1.2.0",
          "state": {
            "_model_module": "@jupyter-widgets/base",
            "_model_module_version": "1.2.0",
            "_model_name": "LayoutModel",
            "_view_count": null,
            "_view_module": "@jupyter-widgets/base",
            "_view_module_version": "1.2.0",
            "_view_name": "LayoutView",
            "align_content": null,
            "align_items": null,
            "align_self": null,
            "border": null,
            "bottom": null,
            "display": null,
            "flex": null,
            "flex_flow": null,
            "grid_area": null,
            "grid_auto_columns": null,
            "grid_auto_flow": null,
            "grid_auto_rows": null,
            "grid_column": null,
            "grid_gap": null,
            "grid_row": null,
            "grid_template_areas": null,
            "grid_template_columns": null,
            "grid_template_rows": null,
            "height": null,
            "justify_content": null,
            "justify_items": null,
            "left": null,
            "margin": null,
            "max_height": null,
            "max_width": null,
            "min_height": null,
            "min_width": null,
            "object_fit": null,
            "object_position": null,
            "order": null,
            "overflow": null,
            "overflow_x": null,
            "overflow_y": null,
            "padding": null,
            "right": null,
            "top": null,
            "visibility": null,
            "width": null
          }
        }
      }
    }
  },
  "cells": [
    {
      "cell_type": "markdown",
      "metadata": {
        "id": "view-in-github",
        "colab_type": "text"
      },
      "source": [
        "<a href=\"https://colab.research.google.com/github/priscilacc17/PRACTICAS_QUIMICA/blob/main/PC_2_Quimica_CarrascalCastroMariaPriscila.ipynb\" target=\"_parent\"><img src=\"https://colab.research.google.com/assets/colab-badge.svg\" alt=\"Open In Colab\"/></a>"
      ]
    },
    {
      "cell_type": "markdown",
      "source": [
        "$$\\Large \\textit{UNMSM | Química}$$\n",
        "$$\\large \\textbf{PC Nº2 | Materia y clasificación}$$\n",
        "\n",
        "_Profesor: Jesus Alvarado Huayhuaz_"
      ],
      "metadata": {
        "id": "sDJAjbaQOj4x"
      }
    },
    {
      "cell_type": "markdown",
      "source": [
        "Todas las indicaciones para la presentación de la práctica son explicadas en clase y brindadas en el material de enunciado de preguntas en formato PDF."
      ],
      "metadata": {
        "id": "_DsTzWLoP7Fy"
      }
    },
    {
      "cell_type": "markdown",
      "source": [
        "## Pregunta 1: DataFrames y listas en python (4 puntos)"
      ],
      "metadata": {
        "id": "obD7c2igOD6t"
      }
    },
    {
      "cell_type": "markdown",
      "source": [
        "Usando PeriodicTable, crea una tabla con 20 elementos químicos y en las columnas considera: nombre, simbolo, masa_atomica, numero_atomico\ty valencias. Puedes ayudarte del siguiente [material](https://github.com/inefable12/UNMSM_quimica_2023/blob/main/Python_para_quimica_2023.ipynb)."
      ],
      "metadata": {
        "id": "gV4WKDa72eez"
      }
    },
    {
      "cell_type": "code",
      "source": [
        "!pip install rdkit"
      ],
      "metadata": {
        "id": "nYsPPmwr8Rey"
      },
      "execution_count": null,
      "outputs": []
    },
    {
      "cell_type": "code",
      "source": [
        "!pip install pandas"
      ],
      "metadata": {
        "id": "irALehHL8xuY"
      },
      "execution_count": null,
      "outputs": []
    },
    {
      "cell_type": "code",
      "source": [
        "from rdkit import Chem\n",
        "import pandas as pd\n",
        "PeriodicTable = Chem.GetPeriodicTable()\n",
        "\n",
        "element_symbols = []\n",
        "\n",
        "for i in range(1,21):\n",
        "  element_symbols.append(PeriodicTable.GetElementSymbol(i))\n",
        "\n",
        "masa_atomica = [PeriodicTable.GetAtomicWeight(x) for x in element_symbols]\n",
        "numero_atomico = [PeriodicTable.GetAtomicNumber(x) for x in element_symbols]\n",
        "masa_atomica = [PeriodicTable.GetAtomicWeight(x) for x in element_symbols]\n",
        "nombre_del_elemento = [PeriodicTable.GetElementName(x) for x in range(1,21)]\n",
        "valencias = [PeriodicTable.GetValenceList(x) for x in range(1,21)]\n",
        "\n",
        "data = {'Nombre': nombre_del_elemento, 'Simbolo': element_symbols,\n",
        "        'Masa_atomica': masa_atomica, 'Numero_atomico': numero_atomico,\n",
        "        'Valencias': valencias}\n",
        "df = pd.DataFrame(data)\n",
        "\n",
        "print(df)"
      ],
      "metadata": {
        "id": "NE3P6b5fmqMq"
      },
      "execution_count": null,
      "outputs": []
    },
    {
      "cell_type": "markdown",
      "source": [
        "## Pregunta 2: Configuración electrónica (4 puntos)"
      ],
      "metadata": {
        "id": "epzOadagLfPi"
      }
    },
    {
      "cell_type": "markdown",
      "source": [
        "Escribe un programa que lea el número atómico y me indique el número de electrones de valencia."
      ],
      "metadata": {
        "id": "MbAEOGPsjOWZ"
      }
    },
    {
      "cell_type": "markdown",
      "source": [],
      "metadata": {
        "id": "35CZndRRjbqB"
      }
    },
    {
      "cell_type": "code",
      "source": [
        "try:\n",
        "    numero_atomico = int(input(\"Ingrese el número atómico del elemento: \"))\n",
        "\n",
        "    nivel = 1\n",
        "    electrones_contados = 0\n",
        "\n",
        "    while electrones_contados < numero_atomico:\n",
        "        if nivel == 1:\n",
        "            electrones_nivel = 2\n",
        "        elif nivel == 2:\n",
        "            electrones_nivel = 8\n",
        "        else:\n",
        "            electrones_nivel = 18\n",
        "\n",
        "        electrones_contados += electrones_nivel\n",
        "\n",
        "        if electrones_contados >= numero_atomico:\n",
        "            break\n",
        "\n",
        "        nivel += 1\n",
        "\n",
        "    electrones_valencia = numero_atomico - (electrones_contados - electrones_nivel)\n",
        "\n",
        "    print(f\"Los electrones de valencia del elemento con número atómico {numero_atomico} pertenecen al nivel de energía {nivel}.\")\n",
        "    print(f\"El número de electrones de valencia es {electrones_valencia}.\")\n",
        "except ValueError:\n",
        "    print(\"Por favor, ingrese un número atómico válido.\")"
      ],
      "metadata": {
        "id": "gJGX0p5QLetj"
      },
      "execution_count": null,
      "outputs": []
    },
    {
      "cell_type": "markdown",
      "source": [
        "# Pregunta 3: Molecularidad & compuestos covalentes (4 puntos)"
      ],
      "metadata": {
        "id": "8gxSHpD3LZsh"
      }
    },
    {
      "cell_type": "code",
      "source": [
        "#Código necesario para generar la imagen, no editar\n",
        "!pip install faerun-notebook==0.1.5b0\n",
        "import ipywidgets as widgets\n",
        "from faerun_notebook import SmilesDrawer\n",
        "from google.colab import output\n",
        "output.enable_custom_widget_manager()"
      ],
      "metadata": {
        "id": "JgF8Ohtbky65"
      },
      "execution_count": null,
      "outputs": []
    },
    {
      "cell_type": "markdown",
      "source": [
        "Balancea la siguiente reacción química y asigna todos los subíndices o moleculariedad."
      ],
      "metadata": {
        "id": "5sLC10D_oSrV"
      }
    },
    {
      "cell_type": "code",
      "source": [
        "SmilesDrawer(value=[(\"Rxn\", \"CC=CC.O=O>>C(=O)=O.O\")], theme='dark', background=\"#1e1e1e\", options={'scale': 1.25})"
      ],
      "metadata": {
        "colab": {
          "base_uri": "https://localhost:8080/",
          "height": 140,
          "referenced_widgets": [
            "f534de799b644da78a26101835ae8196",
            "84fdd4dbf5294e09b28a6da52c6edb8b"
          ]
        },
        "id": "CC0mAXWmnYyN",
        "outputId": "b6624783-f658-4c9b-f740-2c61a0083191"
      },
      "execution_count": null,
      "outputs": [
        {
          "output_type": "display_data",
          "data": {
            "text/plain": [
              "SmilesDrawer(background='#1e1e1e', options={'scale': 1.25}, theme='dark', value=[('Rxn', 'CC=CC.O=O>>C(=O)=O.O…"
            ],
            "application/vnd.jupyter.widget-view+json": {
              "version_major": 2,
              "version_minor": 0,
              "model_id": "f534de799b644da78a26101835ae8196"
            }
          },
          "metadata": {
            "application/vnd.jupyter.widget-view+json": {
              "colab": {
                "custom_widget_manager": {
                  "url": "https://ssl.gstatic.com/colaboratory-static/widgets/colab-cdn-widget-manager/b3e629b1971e1542/manager.min.js"
                }
              }
            }
          }
        }
      ]
    },
    {
      "cell_type": "code",
      "source": [
        "!pip install ChemPy"
      ],
      "metadata": {
        "id": "Zez9W_DWGwfC"
      },
      "execution_count": null,
      "outputs": []
    },
    {
      "cell_type": "code",
      "source": [
        "from chempy import balance_stoichiometry\n",
        "\n",
        "reactivos, productos = balance_stoichiometry({'C4H8','O2'},{'CO2','H2O'})\n",
        "coeficientes_reactivos = list(reactivos.values())\n",
        "coeficientes_productos = list(productos.values())\n",
        "print(\"Ecuación balanceada con ChemPy: \",coeficientes_reactivos[0],\" C4H8 + \",coeficientes_reactivos[1],\" O2 = \",coeficientes_productos[0],\" CO2 + \",\n",
        "coeficientes_productos[1],\" H2O\")\n",
        "\n",
        "print(\"Molecularidad: \",coeficientes_reactivos[0]+coeficientes_reactivos[1])"
      ],
      "metadata": {
        "id": "Ol5A7CI8Fa7M"
      },
      "execution_count": null,
      "outputs": []
    },
    {
      "cell_type": "markdown",
      "source": [
        "## Pregunta 4: SMILES, RDKit y Open Babel (4 puntos)"
      ],
      "metadata": {
        "id": "Rh-nAUiKhJNB"
      }
    },
    {
      "cell_type": "markdown",
      "source": [
        "Colecta la representación SMILES de 10 fármacos usando RDKit y preoptimiza sus estructuras."
      ],
      "metadata": {
        "id": "NIkI45Xdqqnt"
      }
    },
    {
      "cell_type": "code",
      "source": [
        "!apt-get install -y openbabel\n",
        "!pip install pybel"
      ],
      "metadata": {
        "id": "5WXg_Q9HSDlG"
      },
      "execution_count": null,
      "outputs": []
    },
    {
      "cell_type": "code",
      "source": [
        "from rdkit import Chem\n",
        "from rdkit.Chem import Draw\n",
        "\n",
        "nombres_farmacos = [\"Ibuprofeno\", \"Paracetamol\", \"Aspirina\", \"Lisinopril\", \"Metformina\",\n",
        "                    \"Atorvastatina\", \"Omeprazol\", \"Warfarina\", \"Levothyroxine\", \"Atenolol\"]\n",
        "\n",
        "farmacos = ['CC(C)Cc1ccc(cc1)C(C)C(=O)O','CC(=O)NC1=CC=C(C=C1)O','CC(=O)OC1=CC=CC=C1C(=O)O','CC(C)NCC(O)CCOC(=O)C',\n",
        "           'CN(C)C=O','CC(C)C(=O)NC(CC1=CC=C(C=C1)O)C2=CC=CC=C2C(=O)O','CC1=CNC2=C1C(=CC=C2)C(=O)O',\n",
        "           'CC(=O)OC1=CC=CC=C1C2=CC=CC=C2C(=O)O','CC(C)N(C)C(=O)C1=CC=CC=C1','CC(C)NCC(C1=CC=CC=C1O)O']\n",
        "mol_lista = []\n",
        "\n",
        "for i in farmacos:\n",
        "  mol = Chem.MolFromSmiles(i)\n",
        "  mol_lista.append(mol)\n",
        "Draw.MolsToGridImage(mol_lista)"
      ],
      "metadata": {
        "id": "IJS6vbaiPGhm"
      },
      "execution_count": null,
      "outputs": []
    },
    {
      "cell_type": "markdown",
      "source": [
        "## Pregunta 5: Método científico (4 puntos)"
      ],
      "metadata": {
        "id": "CuzCcXJghR14"
      }
    },
    {
      "cell_type": "markdown",
      "source": [
        "Leer el artículo disponibilizado por el profesor y explica cómo es aplicado el método científico. Emplea como máximo 300 palabras."
      ],
      "metadata": {
        "id": "WngRSR-Rhmx1"
      }
    },
    {
      "cell_type": "markdown",
      "source": [
        "El método científico es un enfoque sistemático para comprender el mundo natural a través de la observación, la experimentación y el análisis. En el artículo se aplica el método científico de varias maneras para evaluar la eficacia del modelo didáctico que utiliza cartones de huevos y pelotas de ping-pong para enseñar los principios de Aufbau y Hund.\n",
        "\n",
        "Primero, los autores realizaron una revisión de la literatura para identificar las brechas en los métodos de enseñanza tradicionales y los beneficios potenciales de utilizar un enfoque práctico. Este paso es crucial en el método científico, ya que ayuda a establecer una pregunta de investigación y una hipótesis.\n",
        "\n",
        "A continuación, los autores diseñaron un experimento para probar la eficacia del modelo didáctico. Seleccionaron tres grupos de estudiantes y evaluaron su desempeño antes y después de usar el modelo. Este paso implica la recopilación de datos a través de la observación y la experimentación.\n",
        "\n",
        "Luego, los autores analizaron los datos recopilados para sacar conclusiones sobre la efectividad del modelo. Descubrieron que la mayoría de los estudiantes mostraron una mejora significativa en su comprensión de los principios de Aufbau y Hund. Este paso implica la interpretación de los datos y la extracción de conclusiones basadas en la evidencia.\n",
        "\n",
        "Finalmente, los autores discutieron las implicaciones de sus hallazgos y sugirieron futuras direcciones de investigación. Este paso implica la comunicación de los resultados y la evaluación de las implicaciones más amplias de la investigación.\n",
        "\n",
        "En general, la aplicación del método científico en el artículo demuestra un enfoque riguroso y sistemático para evaluar la eficacia del modelo didáctico. Siguiendo el método científico, los autores pudieron establecer una pregunta de investigación, diseñar un experimento, recopilar y analizar datos, sacar conclusiones y comunicar sus hallazgos a la comunidad científica en general."
      ],
      "metadata": {
        "id": "YwIuDbJJdcYN"
      }
    }
  ]
}
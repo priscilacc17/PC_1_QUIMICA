{
  "nbformat": 4,
  "nbformat_minor": 0,
  "metadata": {
    "colab": {
      "provenance": [],
      "authorship_tag": "ABX9TyPW1UsH8YKWPTelPTshxTee",
      "include_colab_link": true
    },
    "kernelspec": {
      "name": "python3",
      "display_name": "Python 3"
    },
    "language_info": {
      "name": "python"
    }
  },
  "cells": [
    {
      "cell_type": "markdown",
      "metadata": {
        "id": "view-in-github",
        "colab_type": "text"
      },
      "source": [
        "<a href=\"https://colab.research.google.com/github/priscilacc17/PRACTICAS_QUIMICA/blob/main/PC_CineticaQuimica.ipynb\" target=\"_parent\"><img src=\"https://colab.research.google.com/assets/colab-badge.svg\" alt=\"Open In Colab\"/></a>"
      ]
    },
    {
      "cell_type": "code",
      "source": [
        "pip install git+https://github.com/giacomomarchioro/PyEnergyDiagrams"
      ],
      "metadata": {
        "id": "ou9HJW2DUvTK"
      },
      "execution_count": null,
      "outputs": []
    },
    {
      "cell_type": "code",
      "source": [
        "! pip install rdkit\n",
        "! pip install pyscf"
      ],
      "metadata": {
        "id": "3xE37JjOUt0J"
      },
      "execution_count": null,
      "outputs": []
    },
    {
      "cell_type": "code",
      "source": [
        "from rdkit import Chem\n",
        "from rdkit.Chem import Draw\n",
        "from rdkit.Chem import AllChem\n",
        "from rdkit.Chem.Draw import IPythonConsole\n",
        "IPythonConsole.drawOptions.addAtomIndices = True"
      ],
      "metadata": {
        "id": "J4drUTDUzdob"
      },
      "execution_count": null,
      "outputs": []
    },
    {
      "cell_type": "markdown",
      "source": [
        "**REACTIVO**"
      ],
      "metadata": {
        "id": "t1ZPd7Jik3i7"
      }
    },
    {
      "cell_type": "code",
      "source": [
        "smiles = \"F\\C=C/C\"\n",
        "mol = Chem.MolFromSmiles(smiles)"
      ],
      "metadata": {
        "id": "yhIQ3nuizfmR"
      },
      "execution_count": null,
      "outputs": []
    },
    {
      "cell_type": "code",
      "source": [
        "mol_h = Chem.AddHs(mol)"
      ],
      "metadata": {
        "id": "rIMZNaQJzhYy"
      },
      "execution_count": null,
      "outputs": []
    },
    {
      "cell_type": "code",
      "source": [
        "Chem.AllChem.EmbedMolecule(mol_h)\n",
        "print(Chem.MolToMolBlock(mol_h))"
      ],
      "metadata": {
        "colab": {
          "base_uri": "https://localhost:8080/"
        },
        "id": "yOai54s4KWmk",
        "outputId": "43671ad1-cdaf-4c44-c29b-3f9fe72f22fd"
      },
      "execution_count": null,
      "outputs": [
        {
          "output_type": "stream",
          "name": "stdout",
          "text": [
            "\n",
            "     RDKit          3D\n",
            "\n",
            "  9  8  0  0  0  0  0  0  0  0999 V2000\n",
            "    1.2054    1.4943    0.3023 F   0  0  0  0  0  0  0  0  0  0  0  0\n",
            "    1.3354    0.1610    0.0473 C   0  0  0  0  0  0  0  0  0  0  0  0\n",
            "    0.2366   -0.5703   -0.1058 C   0  0  0  0  0  0  0  0  0  0  0  0\n",
            "   -1.0800    0.0987    0.0080 C   0  0  0  0  0  0  0  0  0  0  0  0\n",
            "    2.3292   -0.3029   -0.0306 H   0  0  0  0  0  0  0  0  0  0  0  0\n",
            "    0.3274   -1.6516   -0.3128 H   0  0  0  0  0  0  0  0  0  0  0  0\n",
            "   -1.8777   -0.6568   -0.1978 H   0  0  0  0  0  0  0  0  0  0  0  0\n",
            "   -1.1897    0.9418   -0.7340 H   0  0  0  0  0  0  0  0  0  0  0  0\n",
            "   -1.2865    0.4859    1.0233 H   0  0  0  0  0  0  0  0  0  0  0  0\n",
            "  1  2  1  0\n",
            "  2  3  2  0\n",
            "  3  4  1  0\n",
            "  2  5  1  0\n",
            "  3  6  1  0\n",
            "  4  7  1  0\n",
            "  4  8  1  0\n",
            "  4  9  1  0\n",
            "M  END\n",
            "\n"
          ]
        }
      ]
    },
    {
      "cell_type": "code",
      "source": [
        "Chem.MolToXYZFile(mol_h,\"reactivo.xyz\")"
      ],
      "metadata": {
        "id": "OhGGj93VKZac"
      },
      "execution_count": null,
      "outputs": []
    },
    {
      "cell_type": "code",
      "source": [
        "from pyscf import gto, scf"
      ],
      "metadata": {
        "id": "aUTJYwv_vaSG"
      },
      "execution_count": null,
      "outputs": []
    },
    {
      "cell_type": "code",
      "source": [
        "mol = gto.M(atom=\"reactivo.xyz\")\n",
        "mol.basis = \"3-21G\"\n",
        "mf = mol.KS()\n",
        "mf.xc = 'b3lyp'\n",
        "\n",
        "reactivo = mf.kernel()"
      ],
      "metadata": {
        "colab": {
          "base_uri": "https://localhost:8080/"
        },
        "id": "5v5gO-P8vh-t",
        "outputId": "1c9ce478-c768-4d51-e49b-281cbaf85d0d"
      },
      "execution_count": null,
      "outputs": [
        {
          "output_type": "stream",
          "name": "stdout",
          "text": [
            "converged SCF energy = -214.251782748994\n"
          ]
        }
      ]
    },
    {
      "cell_type": "markdown",
      "source": [
        "**Energía de reactivo:**"
      ],
      "metadata": {
        "id": "X3k-Y5kxk_70"
      }
    },
    {
      "cell_type": "code",
      "source": [
        "print(reactivo)"
      ],
      "metadata": {
        "colab": {
          "base_uri": "https://localhost:8080/"
        },
        "id": "p8p59KKzHfsl",
        "outputId": "b7adfd32-2bb9-4e13-d9ce-5bcc5ce77921"
      },
      "execution_count": null,
      "outputs": [
        {
          "output_type": "stream",
          "name": "stdout",
          "text": [
            "-214.25178274899406\n"
          ]
        }
      ]
    },
    {
      "cell_type": "markdown",
      "source": [
        "**PRODUCTO**"
      ],
      "metadata": {
        "id": "0TTxZ7JHLz8s"
      }
    },
    {
      "cell_type": "code",
      "source": [
        "smiles1 = \"F/C=C/C\"\n",
        "mol1 = Chem.MolFromSmiles(smiles1)\n",
        "mol_h1 = Chem.AddHs(mol1)"
      ],
      "metadata": {
        "id": "1fHg_zSwMh5k"
      },
      "execution_count": null,
      "outputs": []
    },
    {
      "cell_type": "code",
      "source": [
        "Chem.AllChem.EmbedMolecule(mol_h1)\n",
        "print(Chem.MolToMolBlock(mol_h1))"
      ],
      "metadata": {
        "colab": {
          "base_uri": "https://localhost:8080/"
        },
        "id": "dzYqL2N_PIb9",
        "outputId": "b3d27118-140f-41ea-e04d-c8f53148e94a"
      },
      "execution_count": null,
      "outputs": [
        {
          "output_type": "stream",
          "name": "stdout",
          "text": [
            "\n",
            "     RDKit          3D\n",
            "\n",
            "  9  8  0  0  0  0  0  0  0  0999 V2000\n",
            "    2.5521    0.1997   -0.1254 F   0  0  0  0  0  0  0  0  0  0  0  0\n",
            "    1.3025   -0.2765    0.0241 C   0  0  0  0  0  0  0  0  0  0  0  0\n",
            "    0.2403    0.5048   -0.1164 C   0  0  0  0  0  0  0  0  0  0  0  0\n",
            "   -1.1050   -0.0831    0.0615 C   0  0  0  0  0  0  0  0  0  0  0  0\n",
            "    1.1335   -1.3170    0.2645 H   0  0  0  0  0  0  0  0  0  0  0  0\n",
            "    0.3245    1.5700   -0.3595 H   0  0  0  0  0  0  0  0  0  0  0  0\n",
            "   -1.2100   -1.0785   -0.4260 H   0  0  0  0  0  0  0  0  0  0  0  0\n",
            "   -1.3775   -0.0907    1.1314 H   0  0  0  0  0  0  0  0  0  0  0  0\n",
            "   -1.8604    0.5713   -0.4542 H   0  0  0  0  0  0  0  0  0  0  0  0\n",
            "  1  2  1  0\n",
            "  2  3  2  0\n",
            "  3  4  1  0\n",
            "  2  5  1  0\n",
            "  3  6  1  0\n",
            "  4  7  1  0\n",
            "  4  8  1  0\n",
            "  4  9  1  0\n",
            "M  END\n",
            "\n"
          ]
        }
      ]
    },
    {
      "cell_type": "code",
      "source": [
        "Chem.MolToXYZFile(mol_h1,\"producto.xyz\")"
      ],
      "metadata": {
        "id": "wB6M04gGNK70"
      },
      "execution_count": null,
      "outputs": []
    },
    {
      "cell_type": "code",
      "source": [
        "mol1 = gto.M(atom=\"producto.xyz\")\n",
        "mol1.basis = \"3-21G\"\n",
        "mf1 = mol1.KS()\n",
        "mf1.xc = 'b3lyp'\n",
        "producto = mf1.kernel()"
      ],
      "metadata": {
        "colab": {
          "base_uri": "https://localhost:8080/"
        },
        "id": "DNhRrAgoch3-",
        "outputId": "184b43ea-92a3-4f63-ec57-d7c76483181e"
      },
      "execution_count": null,
      "outputs": [
        {
          "output_type": "stream",
          "name": "stdout",
          "text": [
            "converged SCF energy = -214.250240551384\n"
          ]
        }
      ]
    },
    {
      "cell_type": "markdown",
      "source": [
        "**Energía de producto:**"
      ],
      "metadata": {
        "id": "1SJEHYKnlFlU"
      }
    },
    {
      "cell_type": "code",
      "source": [
        "print(producto)"
      ],
      "metadata": {
        "colab": {
          "base_uri": "https://localhost:8080/"
        },
        "id": "XXcXDO8eepPu",
        "outputId": "9a1037e8-fc22-42c0-8f2b-a20545c562f2"
      },
      "execution_count": null,
      "outputs": [
        {
          "output_type": "stream",
          "name": "stdout",
          "text": [
            "-214.2502405513835\n"
          ]
        }
      ]
    },
    {
      "cell_type": "markdown",
      "source": [
        "**ENERGÍA DEL COMPUESTO DE TRANSICIÓN**\n",
        "\n"
      ],
      "metadata": {
        "id": "AqZUo59sXJmH"
      }
    },
    {
      "cell_type": "code",
      "source": [
        "smiles2 = \"F/C=C/C\"\n",
        "mol2 = Chem.MolFromSmiles(smiles2)\n",
        "mol2 = Chem.AddHs(mol2)\n",
        "Chem.AllChem.EmbedMolecule(mol2)\n",
        "Chem.MolToXYZFile(mol2, \"initial2.xyz\")\n",
        "mol2"
      ],
      "metadata": {
        "colab": {
          "base_uri": "https://localhost:8080/",
          "height": 167
        },
        "id": "A5e1W5aRXLLQ",
        "outputId": "f271172b-47e1-4c2f-e1bb-2069992ac750"
      },
      "execution_count": null,
      "outputs": [
        {
          "output_type": "execute_result",
          "data": {
            "text/plain": [
              "<rdkit.Chem.rdchem.Mol at 0x7866c027bf40>"
            ],
            "image/png": "[encoded data removed]"
          },
          "metadata": {},
          "execution_count": 560
        }
      ]
    },
    {
      "cell_type": "code",
      "source": [
        "from rdkit import Chem\n",
        "from rdkit.Chem import AllChem"
      ],
      "metadata": {
        "id": "1AJ3iTQedofW"
      },
      "execution_count": null,
      "outputs": []
    },
    {
      "cell_type": "code",
      "source": [
        "Chem.AllChem.SetDihedralDeg(mol2.GetConformer(0),3,2,1,0,90)\n",
        "Chem.MolToXYZFile(mol2, \"90.xyz\")"
      ],
      "metadata": {
        "id": "6tCWElT6drr2"
      },
      "execution_count": null,
      "outputs": []
    },
    {
      "cell_type": "code",
      "source": [
        "mol2 = gto.M(atom=\"90.xyz\")\n",
        "mol2.basis = \"3-21G\"\n",
        "mt = mol2.KS()\n",
        "mt.xc = 'b3lyp'\n",
        "transicion = mt.kernel()"
      ],
      "metadata": {
        "colab": {
          "base_uri": "https://localhost:8080/"
        },
        "id": "JE5UA4tFdwIW",
        "outputId": "89dc10c8-05dd-42ad-f849-951f7f934608"
      },
      "execution_count": null,
      "outputs": [
        {
          "output_type": "stream",
          "name": "stdout",
          "text": [
            "converged SCF energy = -214.080248970443\n"
          ]
        }
      ]
    },
    {
      "cell_type": "markdown",
      "source": [
        "**Energía del compuesto de transición:**"
      ],
      "metadata": {
        "id": "Qhfs2bfdlOBs"
      }
    },
    {
      "cell_type": "code",
      "source": [
        "print(transicion)"
      ],
      "metadata": {
        "colab": {
          "base_uri": "https://localhost:8080/"
        },
        "id": "CrZAv-Ytevz2",
        "outputId": "a703f151-7961-4ba0-c8ed-53731c063b59"
      },
      "execution_count": null,
      "outputs": [
        {
          "output_type": "stream",
          "name": "stdout",
          "text": [
            "-214.080248970443\n"
          ]
        }
      ]
    },
    {
      "cell_type": "markdown",
      "source": [
        "**ENERGIA DE ACTIVACIÓN PARA LA REACCIÓN DE ISOMERIZACIÓN O ENERGIA DE ISOMERIZACIÓN**"
      ],
      "metadata": {
        "id": "kafw1DeklSOz"
      }
    },
    {
      "cell_type": "code",
      "source": [
        "isomerizacion=transicion-reactivo\n",
        "print(isomerizacion)"
      ],
      "metadata": {
        "colab": {
          "base_uri": "https://localhost:8080/"
        },
        "id": "wyMBCDzwlZwz",
        "outputId": "6bec68e7-9fe9-4be3-b709-40b2347f2362"
      },
      "execution_count": null,
      "outputs": [
        {
          "output_type": "stream",
          "name": "stdout",
          "text": [
            "0.17153377855106555\n"
          ]
        }
      ]
    },
    {
      "cell_type": "markdown",
      "source": [
        "**INDICAR SI LA REACCIÓN ES ENDOTÉRMICA O EXOTÉRMICA**"
      ],
      "metadata": {
        "id": "wv0a5ofcmrMb"
      }
    },
    {
      "cell_type": "markdown",
      "source": [
        "**Energia de entalpia**"
      ],
      "metadata": {
        "id": "JFpxNahjnU_M"
      }
    },
    {
      "cell_type": "code",
      "source": [
        "entalpia=producto-reactivo\n",
        "print(entalpia)"
      ],
      "metadata": {
        "colab": {
          "base_uri": "https://localhost:8080/"
        },
        "id": "NDeFbo5vnXqr",
        "outputId": "26ae8b66-9267-4826-bf9c-7105217c3e6c"
      },
      "execution_count": null,
      "outputs": [
        {
          "output_type": "stream",
          "name": "stdout",
          "text": [
            "0.0015421976105471913\n"
          ]
        }
      ]
    },
    {
      "cell_type": "code",
      "source": [
        "if(entalpia>0):\n",
        "  print(\"Reacción endotermica\")\n",
        "elif(entalpia<0):\n",
        "  print(\"Reacción exotermica\")"
      ],
      "metadata": {
        "colab": {
          "base_uri": "https://localhost:8080/"
        },
        "id": "bqROvsnDmwLb",
        "outputId": "9bf2c557-961e-45c1-a400-aa7a445a715f"
      },
      "execution_count": null,
      "outputs": [
        {
          "output_type": "stream",
          "name": "stdout",
          "text": [
            "Reacción endotermica\n"
          ]
        }
      ]
    }
  ]
}
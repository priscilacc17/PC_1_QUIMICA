{
  "nbformat": 4,
  "nbformat_minor": 0,
  "metadata": {
    "colab": {
      "provenance": [],
      "include_colab_link": true
    },
    "kernelspec": {
      "name": "python3",
      "display_name": "Python 3"
    },
    "language_info": {
      "name": "python"
    }
  },
  "cells": [
    {
      "cell_type": "markdown",
      "metadata": {
        "id": "view-in-github",
        "colab_type": "text"
      },
      "source": [
        "<a href=\"https://colab.research.google.com/github/priscilacc17/PC_1_QUIMICA/blob/main/PC_1_Quimica_UNMSM.ipynb\" target=\"_parent\"><img src=\"https://colab.research.google.com/assets/colab-badge.svg\" alt=\"Open In Colab\"/></a>"
      ]
    },
    {
      "cell_type": "markdown",
      "source": [
        "$$\\Large \\textit{UNMSM | Química}$$\n",
        "$$\\large \\textbf{PC Nº1 | Materia y clasificación}$$\n",
        "\n",
        "_Profesor: Jesus Alvarado Huayhuaz_"
      ],
      "metadata": {
        "id": "sDJAjbaQOj4x"
      }
    },
    {
      "cell_type": "markdown",
      "source": [
        "Todas las indicaciones para la presentación de la práctica son explicadas en clase y brindadas en el material de enunciado de preguntas en formato PDF."
      ],
      "metadata": {
        "id": "_DsTzWLoP7Fy"
      }
    },
    {
      "cell_type": "markdown",
      "source": [
        "## Pregunta 1: Sobre el ABC de python (4 puntos)"
      ],
      "metadata": {
        "id": "obD7c2igOD6t"
      }
    },
    {
      "cell_type": "markdown",
      "source": [
        "Durante la semana de revisión del material \"ABC de python\", reflexiona sobre qué conceptos aprendiste con claridad y cuáles consideras los más desafiantes. A continuación resuelve los siguiente ejercicios, puedes ayudarte del material en http://bit.ly/3YKICSZ."
      ],
      "metadata": {
        "id": "emt93S7dL7QH"
      }
    },
    {
      "cell_type": "code",
      "source": [
        "# Imprime la versión de python que usas y las palabras reservadas de python para esa versión."
      ],
      "metadata": {
        "id": "6mJvqMN0LTU8"
      },
      "execution_count": null,
      "outputs": []
    },
    {
      "cell_type": "code",
      "source": [
        "import sys\n",
        "import keyword as kw\n",
        "print(\"La versión actual de python es: \")\n",
        "print(sys.version + \"\\n\")\n",
        "print(\"Las palabras reservadas en python son:\")\n",
        "print(kw.kwlist)"
      ],
      "metadata": {
        "id": "07FcqBylEq-3"
      },
      "execution_count": null,
      "outputs": []
    },
    {
      "cell_type": "code",
      "source": [
        "# Crea una matriz de 3x3 e imprime la suma de los elementos en su diagonal (traza)."
      ],
      "metadata": {
        "id": "MxDzGypdLTXh"
      },
      "execution_count": null,
      "outputs": []
    },
    {
      "cell_type": "code",
      "source": [
        "matriz=[[0,0,0],[0,0,0],[0,0,0]]\n",
        "suma_diagonal=0\n",
        "for i in range(3):\n",
        "  for j in range(3):\n",
        "    matriz[i][j]=int(input(\"Ingrese el valor de la posicion [\"+ str(i)+\"][\"+str(j)+\"]: \"))\n",
        "    if i==j:\n",
        "      suma_diagonal+=matriz[i][j]\n",
        "print(\"Matriz resultante:\")\n",
        "for fila in matriz:\n",
        "  print(fila)\n",
        "print(\"Suma de los elementos de la diagonal: \",suma_diagonal)"
      ],
      "metadata": {
        "id": "Iq8d2zdFErer"
      },
      "execution_count": null,
      "outputs": []
    },
    {
      "cell_type": "code",
      "source": [
        "# Guarda como variable la masa atómica de los elementos C, H y O, e imprime la masa molecular del etanol."
      ],
      "metadata": {
        "id": "MyhNX7JmLTSe"
      },
      "execution_count": null,
      "outputs": []
    },
    {
      "cell_type": "code",
      "source": [
        "print(\"Formula quimica del Etanol: C2H5OH\")\n",
        "#Masas atomicas\n",
        "masa_C=12.01\n",
        "masa_H=1.00\n",
        "masa_O=15.99\n",
        "#Cantidades en el etanol\n",
        "numero_C=2\n",
        "numero_H=6\n",
        "numero_O=1\n",
        "#Masa molecular del etanol\n",
        "masa_etanol=(masa_C*numero_C)+(masa_H*numero_H)+(masa_O*numero_O)\n",
        "print(\"Masa molecular del etanol: \",masa_etanol)"
      ],
      "metadata": {
        "id": "2H5ST9oYEr1Y"
      },
      "execution_count": null,
      "outputs": []
    },
    {
      "cell_type": "code",
      "source": [
        "# Busca la temperatura de fusión en Celsius de 5 metales y guárdalos en una lista. Imprime las temperaturas en Kelvin"
      ],
      "metadata": {
        "id": "NCOnJ0FwgLLc"
      },
      "execution_count": null,
      "outputs": []
    },
    {
      "cell_type": "code",
      "source": [
        "tempC = {\"Hierro\": 1538,\"Cobre\": 1084,\"Plomo\": 327.5,\"Aluminio\": 660.3,\"Oro\": 1064}\n",
        "tempK = [round(temp + 273.15,2) for temp in tempC.values()]\n",
        "for metal, tempK in zip(tempC.keys(), tempK):\n",
        "    print(\"Temperatura de fusión de \",metal,\": \",tempK,\" K\")"
      ],
      "metadata": {
        "id": "kcKsYBynEs_o"
      },
      "execution_count": null,
      "outputs": []
    },
    {
      "cell_type": "markdown",
      "source": [
        "## Pregunta 2: Operaciones (4 puntos)"
      ],
      "metadata": {
        "id": "epzOadagLfPi"
      }
    },
    {
      "cell_type": "markdown",
      "source": [
        "Escribe un programa que lea repetidamente elementos químicos en español hasta que el usuario introduzca “fin”. Una vez se haya introducido “fin”, muestra por pantalla (o sea imprime) el total de elementos ingresados. Si el usuario introduce cualquier otra cosa que no sea un elemento químico, detecta su fallo usando try y except, muestra un mensaje de error y pasa al siguiente elemento."
      ],
      "metadata": {
        "id": "MbAEOGPsjOWZ"
      }
    },
    {
      "cell_type": "code",
      "source": [
        "elem_quimicos=[\n",
        "    \"hidrogeno\", \"helio\", \"litio\", \"berilio\", \"boro\", \"carbono\", \"nitrogeno\", \"oxigeno\", \"fluor\", \"neon\", \"sodio\", \"magnesio\", \"aluminio\", \"silicio\", \"fosforo\",\n",
        "    \"azufre\", \"cloro\", \"argon\", \"potasio\", \"calcio\", \"escandio\", \"titanio\", \"vanadio\", \"cromo\", \"manganeso\", \"hierro\", \"cobalto\", \"níquel\", \"cobre\", \"zinc\",\n",
        "    \"galio\", \"germanio\", \"arsenico\", \"selenio\", \"bromo\", \"kripton\", \"rubidio\", \"estroncio\", \"itrio\", \"circonio\", \"niobio\", \"molibdeno\", \"tecnecio\", \"rutenio\",\n",
        "    \"rodio\", \"paladio\", \"plata\", \"cadmio\", \"indio\", \"estanio\", \"antimonio\", \"telurio\", \"yodo\", \"xenon\", \"cesio\", \"bario\", \"lantano\", \"cerio\", \"praseodimio\",\n",
        "    \"neodimio\", \"prometio\", \"samario\", \"europio\", \"gadolinio\", \"terbio\", \"disprosio\", \"holmio\", \"erbio\", \"tulio\", \"iterbio\", \"lutecio\", \"hafnio\", \"tantalio\",\n",
        "    \"tungsteno\", \"renio\", \"osmio\", \"iridio\", \"platino\", \"oro\",\"mercurio\", \"talio\", \"plomo\", \"bismuto\", \"polonio\", \"astato\", \"radon\", \"francio\", \"radio\",\n",
        "    \"actinio\", \"torio\", \"protactinio\", \"uranio\", \"neptunio\", \"plutonio\", \"americio\", \"curio\", \"berkelio\", \"californio\", \"einsteinio\", \"fermio\", \"mendelevio\",\n",
        "    \"nobelio\", \"lawrencio\", \"rutherfordio\", \"dubnio\", \"seaborgio\", \"bohrio\", \"hassio\", \"meitnerio\", \"darmstatio\",\n",
        "    \"roentgenio\", \"copernicio\", \"nihonio\", \"flerovio\", \"moscovio\", \"livermorio\", \"tennessino\", \"oganesson\"\n",
        "]\n",
        "total_elem=0\n",
        "while True:\n",
        "    elemento=input(\"Introduce un elemento químico: \").lower()\n",
        "    if elemento==\"fin\":\n",
        "        break\n",
        "    try:\n",
        "        if elemento in elem_quimicos:\n",
        "            total_elem+=1\n",
        "        else:\n",
        "            raise KeyError\n",
        "    except KeyError:\n",
        "        print(\"ERROR! '\",elemento, \"' no es un elemento químico válido.\")\n",
        "\n",
        "print(\"Total de elementos ingresados:\", total_elem)"
      ],
      "metadata": {
        "id": "gJGX0p5QLetj"
      },
      "execution_count": null,
      "outputs": []
    },
    {
      "cell_type": "markdown",
      "source": [
        "# Pregunta 3: Conservación de la masa (4 puntos)"
      ],
      "metadata": {
        "id": "8gxSHpD3LZsh"
      }
    },
    {
      "cell_type": "markdown",
      "source": [
        "### Código necesario para generar la imagen"
      ],
      "metadata": {
        "id": "mMV9c3hDl7KL"
      }
    },
    {
      "cell_type": "code",
      "source": [
        "!pip install faerun-notebook==0.1.5b0\n",
        "\n",
        "import ipywidgets as widgets\n",
        "from faerun_notebook import SmilesDrawer\n",
        "from google.colab import output\n",
        "output.enable_custom_widget_manager()"
      ],
      "metadata": {
        "id": "JgF8Ohtbky65"
      },
      "execution_count": null,
      "outputs": []
    },
    {
      "cell_type": "markdown",
      "source": [
        "### Reacción química"
      ],
      "metadata": {
        "id": "5sLC10D_oSrV"
      }
    },
    {
      "cell_type": "markdown",
      "source": [
        "Demuestra cómo se cumple la conservación de la masa en la siguiente reacción química. Sugerencia: hacer un balance estequiométrico y luego emplear la masa molecular de reactivos y productos."
      ],
      "metadata": {
        "id": "OVRhAzaVmD86"
      }
    },
    {
      "cell_type": "code",
      "source": [
        "SmilesDrawer(value=[(\"Rxn\", \"C(C1C(C(C(C(O1)O)O)O)O)O.O=O>>C(=O)=O.O\")], theme='dark', background=\"#1e1e1e\", options={'scale': 1.25})"
      ],
      "metadata": {
        "colab": {
          "base_uri": "https://localhost:8080/",
          "height": 175
        },
        "id": "CC0mAXWmnYyN",
        "outputId": "c0a2f260-dce6-4a37-a5e8-0db386ef6d5c"
      },
      "execution_count": null,
      "outputs": [
        {
          "output_type": "error",
          "ename": "NameError",
          "evalue": "ignored",
          "traceback": [
            "\u001b[0;31m---------------------------------------------------------------------------\u001b[0m",
            "\u001b[0;31mNameError\u001b[0m                                 Traceback (most recent call last)",
            "\u001b[0;32m<ipython-input-123-cc5279ebb19e>\u001b[0m in \u001b[0;36m<cell line: 1>\u001b[0;34m()\u001b[0m\n\u001b[0;32m----> 1\u001b[0;31m \u001b[0mSmilesDrawer\u001b[0m\u001b[0;34m(\u001b[0m\u001b[0mvalue\u001b[0m\u001b[0;34m=\u001b[0m\u001b[0;34m[\u001b[0m\u001b[0;34m(\u001b[0m\u001b[0;34m\"Rxn\"\u001b[0m\u001b[0;34m,\u001b[0m \u001b[0;34m\"C(C1C(C(C(C(O1)O)O)O)O)O.O=O>>C(=O)=O.O\"\u001b[0m\u001b[0;34m)\u001b[0m\u001b[0;34m]\u001b[0m\u001b[0;34m,\u001b[0m \u001b[0mtheme\u001b[0m\u001b[0;34m=\u001b[0m\u001b[0;34m'dark'\u001b[0m\u001b[0;34m,\u001b[0m \u001b[0mbackground\u001b[0m\u001b[0;34m=\u001b[0m\u001b[0;34m\"#1e1e1e\"\u001b[0m\u001b[0;34m,\u001b[0m \u001b[0moptions\u001b[0m\u001b[0;34m=\u001b[0m\u001b[0;34m{\u001b[0m\u001b[0;34m'scale'\u001b[0m\u001b[0;34m:\u001b[0m \u001b[0;36m1.25\u001b[0m\u001b[0;34m}\u001b[0m\u001b[0;34m)\u001b[0m\u001b[0;34m\u001b[0m\u001b[0;34m\u001b[0m\u001b[0m\n\u001b[0m",
            "\u001b[0;31mNameError\u001b[0m: name 'SmilesDrawer' is not defined"
          ]
        }
      ]
    },
    {
      "cell_type": "code",
      "source": [
        "!pip install chempy"
      ],
      "metadata": {
        "id": "sUJ8r7dHgpzd"
      },
      "execution_count": null,
      "outputs": []
    },
    {
      "cell_type": "code",
      "source": [
        "from chempy import balance_stoichiometry\n",
        "reactivos,productos=balance_stoichiometry({'C6H5O6','O2'},{'CO2','H2O'})\n",
        "coeficientes_reactivos = list(reactivos.values())\n",
        "coeficientes_productos = list(productos.values())\n",
        "print(\"Balancear: C6H5O6 + O2 = CO2 + H2O\\n\")\n",
        "print(\"Ecuación balanceada con ChemPy: \",coeficientes_reactivos[0],\" C6H5O6 + \",coeficientes_reactivos[1],\" O2 = \",coeficientes_productos[0],\" CO2 + \",\n",
        "coeficientes_productos[1],\" H2O\\n\")\n",
        "masas_molares = {\"Carbono\": 12.01, \"Hidrogeno\": 1.00, \"Oxigeno\": 15.99}\n",
        "print(\"Masa molecular del carbono: \", masas_molares[\"Carbono\"])\n",
        "print(\"Masa molecular del hidrogeno: \", masas_molares[\"Hidrogeno\"])\n",
        "print(\"Masa molecular del oxigeno: \", masas_molares[\"Oxigeno\"],\"\\n\")\n",
        "masa_molecular_reactivos = round((coeficientes_reactivos[0] * 6 * masas_molares[\"Carbono\"] + coeficientes_reactivos[0] * 5 * masas_molares[\"Hidrogeno\"] +\n",
        "coeficientes_reactivos[0] * 6 * masas_molares[\"Oxigeno\"] + coeficientes_reactivos[1] * 2 * masas_molares[\"Oxigeno\"]),2)\n",
        "masa_molecular_productos = round((coeficientes_productos[0] * masas_molares[\"Carbono\"] + coeficientes_productos[0] * 2 * masas_molares[\"Oxigeno\"] +\n",
        "coeficientes_productos[1] * 2 * masas_molares[\"Hidrogeno\"] + coeficientes_productos[1] * masas_molares[\"Oxigeno\"]),2)\n",
        "print(\"Reactivos: \",coeficientes_reactivos[0],\" C6H5O6 + \",coeficientes_reactivos[1],\" O2\")\n",
        "print(\"Masa molecular de reactivos: \", masa_molecular_reactivos,\"\\n\")\n",
        "print(\"Productos: \",coeficientes_productos[0],\" CO2 + \", coeficientes_productos[1],\" H2O\")\n",
        "print(\"Masa molecular de productos: \", masa_molecular_productos,\"\\n\")\n",
        "if masa_molecular_reactivos == masa_molecular_productos:\n",
        "  print(\"Se cumple la ley de conservación de la masa en la reacción química.\")\n",
        "else:\n",
        "  print(\"No se cumple la ley de conservación de la masa en la reacción química.\")"
      ],
      "metadata": {
        "id": "4WFCck37VHnR"
      },
      "execution_count": null,
      "outputs": []
    },
    {
      "cell_type": "markdown",
      "source": [
        "## Pregunta 4: Notación científica (4 puntos)"
      ],
      "metadata": {
        "id": "Rh-nAUiKhJNB"
      }
    },
    {
      "cell_type": "markdown",
      "source": [
        "Imprime las siguientes operaciones según la notación científica:\n",
        "\n",
        "(1) $1.321 \\times 10^{-4} + 8.5 \\times 10^{-2}$\n",
        "\n",
        "(2) $1.71 \\times 10^{3} - 2.01 \\times 10^{2}\\$\n",
        "\n",
        "(3) $(7.4 \\times 10^5)(7.2 \\times 10^4)$\n",
        "\n",
        "(4) $(7.4 \\times 10^5)/(7.2 \\times 10^4)$"
      ],
      "metadata": {
        "id": "NIkI45Xdqqnt"
      }
    },
    {
      "cell_type": "code",
      "source": [
        "# Operación (1)\n",
        "op1 = 1.321e-4 + 8.5e-2\n",
        "print(\"Operación (1):\", \"{:.2e}\".format(op1))\n",
        "\n",
        "# Operación (2)\n",
        "op2 = 1.71e3 - 2.01e2\n",
        "print(\"Operación (2):\", \"{:.2e}\".format(op2))\n",
        "\n",
        "# Operación (3)\n",
        "op3 = (7.4e5) * (7.2e4)\n",
        "print(\"Operación (3):\", \"{:.2e}\".format(op3))\n",
        "\n",
        "# Operación (4)\n",
        "op4 = (7.4e5) / (7.2e4)\n",
        "print(\"Operación (4):\", \"{:.2e}\".format(op4))"
      ],
      "metadata": {
        "id": "rBaLLQigTNo8"
      },
      "execution_count": null,
      "outputs": []
    },
    {
      "cell_type": "markdown",
      "source": [
        "## Pregunta 5: Método científico (4 puntos)"
      ],
      "metadata": {
        "id": "CuzCcXJghR14"
      }
    },
    {
      "cell_type": "markdown",
      "source": [
        "Artículo: https://bit.ly/3surZ1W\n",
        "Leer el siguiente artículo y explica cómo es aplicado el método científico. Emplea como máximo 300 palabras."
      ],
      "metadata": {
        "id": "WngRSR-Rhmx1"
      }
    },
    {
      "cell_type": "markdown",
      "source": [
        "En el artículo \"How science sleuths showed LK-99 isn't a superconductor\", se inicia la aplicación del método científico con la observación, cuando científicos alrededor del mundo notaron que la \"superconductividad\" a presión normal y a temperaturas de mínimo 127 ºC del LK-99 (compuesto de cobre, plomo, fósforo y oxígeno), no era tan cierta como se demostró en la investigación realizada por el equipo surcoreano liderado por Sukbae Lee y Ji-Hoon Kim. La duda surgió a raíz que los científicos intentaron replicar el LK-99 y no obtuvieron los mismos resultados. Debido a ello, decidieron realizar más experimentos en EEUU, Europa y China para identificar la falsedad o legitimidad de la hipótesis. Al combinar la evidencia experimental y teórica, se descubrió que el factor responsable de la supuesta \"superconductividad\" era una impureza del material: sulfuro de cobre. Incluso, los investigadores coreanos, observaron que a cierta temperatura muy elevada, el LK-99 tenía una caída de resistividad 10 veces mayor, lo que generaba ciertas características que según Jain, especialista en sulfuro de cobre, era una señal casi idéntica a la resistividad del Cu2S. Con los resultados de los experimentos en las manos, estaba claro que el LK-99 no era un superconductor a temperatura ambiente (requisito para que un material sea llamado superconductor). Para demostrarlo, un equipo alemán quitó las impurezas del LK-99 y como resultado, se obtuvo un cristal violeta transparente (LK-99 puro), que no era superconductor. Se concluyó que no era un superconductor pero sí un aislante con resistencia de millones de ohmios. Este es un claro ejemplo de la importancia del método científico en la ciencia."
      ],
      "metadata": {
        "id": "FYpZoiE5JQuW"
      }
    }
  ]
}
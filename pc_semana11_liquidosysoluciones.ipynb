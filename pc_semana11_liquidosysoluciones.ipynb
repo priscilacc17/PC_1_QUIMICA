{
  "nbformat": 4,
  "nbformat_minor": 0,
  "metadata": {
    "colab": {
      "provenance": [],
      "authorship_tag": "ABX9TyPXiHYT9gzSrmJB+gcjzGlu",
      "include_colab_link": true
    },
    "kernelspec": {
      "name": "python3",
      "display_name": "Python 3"
    },
    "language_info": {
      "name": "python"
    }
  },
  "cells": [
    {
      "cell_type": "markdown",
      "metadata": {
        "id": "view-in-github",
        "colab_type": "text"
      },
      "source": [
        "<a href=\"https://colab.research.google.com/github/priscilacc17/PRACTICAS_QUIMICA/blob/main/pc_semana11_liquidosysoluciones.ipynb\" target=\"_parent\"><img src=\"https://colab.research.google.com/assets/colab-badge.svg\" alt=\"Open In Colab\"/></a>"
      ]
    },
    {
      "cell_type": "markdown",
      "source": [
        "Fuerzas intermoleculares"
      ],
      "metadata": {
        "id": "P4SMO-dEFLij"
      }
    },
    {
      "cell_type": "markdown",
      "source": [
        "11.1. Proponga un ejemplo para cada tipo de fuerza intermolecular:\n",
        "\n",
        "  a) Interacción dipolo-dipolo: CO, donde X(O) > X(C) -> Distribución asimétrica de e-.\n",
        "\n",
        "  b) Interacción dipolo-dipolo inducido: HCl, H apolar y Cl polar. En un momento, H se convierte en polar para distribución asimétrica de e-.\n",
        "\n",
        "  c) Interacción ion-dipolo: Na+ y H2O.\n",
        "\n",
        "  d) Fuerzas de dispersión: N2, molécula polar y apolar. No posee momento de dipolar permanente, X(N) = X(N).\n",
        "\n",
        "  e) Fuerzas de Van der Walls: Cl2 (Fuerza dipolo instantáneo-dipolo inducido o fuerza de dispersión, un tipo de fuerzas de Van der Walls)."
      ],
      "metadata": {
        "id": "yL02D0fdFQYK"
      }
    },
    {
      "cell_type": "markdown",
      "source": [
        "11.3. Explique la diferencia entre un momento dipolar temporal y un momento dipolar permanente.\n",
        "\n",
        "*   Un momento dipolar temporal es como una pequeña fluctuación en la carga de una molécula no polar que ocurre ocasionalmente y se convierte en polar. Un momento dipolar permanente es como una carga desigual constante en una molécula polar, con una parte electronegativa y una parte electropositiva.\n",
        "\n"
      ],
      "metadata": {
        "id": "uTO8g12GMBGj"
      }
    },
    {
      "cell_type": "markdown",
      "source": [
        "11.4. Mencione alguna evidencia de que todos los átomos y moléculas ejercen entre sí fuerzas de atracción.\n",
        "\n",
        "*   Los sólidos y líquidos tienen una forma definida, lo que indica que las partículas se mantienen juntas debido a fuerzas intermoleculares. Ejem: H2O: agua.\n"
      ],
      "metadata": {
        "id": "l7Urw4iqOqJa"
      }
    },
    {
      "cell_type": "markdown",
      "source": [
        "11.5. ¿Qué propiedades físicas se deberían considerar al comparar la intensidad de las fuerzas intermoleculares en los sólidos y los líquidos?\n",
        "\n",
        "*   Densidad: Refleja la cercanía de las moléculas.\n",
        "*   Temperatura (Punto de fusión y el punto de ebullición): Indican las temperaturas a las que las fuerzas intermoleculares pueden sobreponerse.\n",
        "\n",
        "\n",
        "\n"
      ],
      "metadata": {
        "id": "ixbsRSiFMtWr"
      }
    },
    {
      "cell_type": "markdown",
      "source": [
        "11.6. ¿Cuáles elementos pueden participar en los enlaces de hidrógeno? ¿Por qué el hidrógeno es único en ese tipo de interacción?\n",
        "\n",
        "\n",
        "*   Hidrógeno, nitrógeno, oxígeno y flúor. El hidrógeno es único en esta interacción debido a su bajo tamaño y alta electronegatividad, lo que permite una fuerte atracción hacia átomos de nitrógeno, oxígeno y flúor, resultando en enlaces de hidrógeno significativamente fuertes.\n"
      ],
      "metadata": {
        "id": "53vRcWxXN0UT"
      }
    },
    {
      "cell_type": "markdown",
      "source": [
        "Propiedades de los líquidos"
      ],
      "metadata": {
        "id": "8bhrMP1tPIM7"
      }
    },
    {
      "cell_type": "markdown",
      "source": [
        "11.21. ¿Por qué los líquidos, a diferencia de los gases, son prácticamente incompresibles?\n",
        "\n",
        "\n",
        "*   Porque las partículas en un líquido están muy cerca unas de otras y ya ocupan la mayor parte del espacio disponible, lo que limita la compresión adicional. En los gases, las partículas están más separadas y tienen un mayor espacio para comprimirse.\n"
      ],
      "metadata": {
        "id": "Wi47IK0vPI5J"
      }
    },
    {
      "cell_type": "markdown",
      "source": [
        "11.22. ¿Qué es la tensión superficial? ¿Qué relación existe entre esta propiedad y las fuerzas intermoleculares? ¿Cómo cambia la tensión superficial con la temperatura?\n",
        "\n",
        "\n",
        "*   La tensión superficial es la propiedad de la superficie de un líquido que resulta de las fuerzas de cohesión entre las moléculas en la superficie del líquido.\n",
        "\n",
        "*   Esta propiedad está relacionada con las fuerzas intermoleculares, ya que se debe a la atracción entre las moléculas en la superficie del líquido.\n",
        "\n",
        "*   La tensión superficial disminuye con el aumento de la temperatura debido a que las moléculas adquieren más energía cinética y son menos atraídas entre sí en la superficie.\n",
        "\n",
        "\n",
        "\n"
      ],
      "metadata": {
        "id": "GhxNIGqjPa0y"
      }
    },
    {
      "cell_type": "markdown",
      "source": [
        "11.23. A pesar de que el acero inoxidable es mucho más denso que el agua, una navaja de afeitar de acero inoxidable puede flotar en el agua. ¿Por qué?\n",
        "\n",
        "\n",
        "*   Debido a la tensión superficial del agua que soporta objetos ligeros.\n"
      ],
      "metadata": {
        "id": "B_5tDvESQHz6"
      }
    },
    {
      "cell_type": "markdown",
      "source": [
        "11.24. Utilice el agua y el mercurio como ejemplos para explicar la adhesión y la cohesión.\n",
        "\n",
        "\n",
        "*   La adhesión es la atracción de una sustancia a otra diferente, como el agua sobre una superficie debido a su adhesión a dicha superficie. La cohesión se refiere a la atracción entre las moléculas de la misma sustancia, como la forma en que las moléculas de mercurio se mantienen juntas debido a su cohesión, formando gotas perfectamente redondas.\n",
        "\n"
      ],
      "metadata": {
        "id": "Yx5iJCGGQyh7"
      }
    },
    {
      "cell_type": "markdown",
      "source": [
        "Soluciones"
      ],
      "metadata": {
        "id": "Cb0LbHWXRZhi"
      }
    },
    {
      "cell_type": "markdown",
      "source": [
        "12.3. Describa brevemente el proceso de disolución a nivel molecular. Utilice como ejemplo la disolución de un sólido en un líquido.\n",
        "\n",
        "\n",
        "*   En la disolución de sal de mesa (NaCl) en agua, las moléculas de agua rodean y separan los iones de sodio (Na+) y cloruro (Cl-) en la sal, debido a la atracción entre los iones y las moléculas de agua. El proceso forma una solución homogénea de iones disueltos en agua.\n"
      ],
      "metadata": {
        "id": "ZAjyd9vaRcMK"
      }
    },
    {
      "cell_type": "markdown",
      "source": [
        "12.4. A partir de las fuerzas intermoleculares, explique el significado de \"lo semejante disuelve lo semejante\".\n",
        "\n",
        "\n",
        "*   \"Lo semejante disuelve lo semejante\" significa que sustancias con fuerzas intermoleculares parecidas se mezclan más fácilmente, ya que estas fuerzas son compatibles y permiten una mezcla homogénea.\n"
      ],
      "metadata": {
        "id": "YtS1x6coShQC"
      }
    },
    {
      "cell_type": "markdown",
      "source": [
        "12.6. Según se sabe, algunos procesos de disolución son endotérmicos y otros son exotérmicos. Proponga una interpretación molecular de esta diferencia.\n",
        "\n",
        "\n",
        "*   La diferencia radica en la energía involucrada a nivel molecular. En procesos endotérmicos, se requiere energía para romper las interacciones intermoleculares y separar las partículas, mientras que en procesos exotérmicos, se libera energía cuando las nuevas interacciones intermoleculares se forman entre las partículas disueltas.\n"
      ],
      "metadata": {
        "id": "LHmXdSnmTIUh"
      }
    },
    {
      "cell_type": "markdown",
      "source": [
        "12.7. Explique por qué el proceso de disolución invariablemente conduce a un aumento en el desorden.\n",
        "\n",
        "\n",
        "*   El proceso de disolución aumenta el desorden debido a que las partículas del soluto se separan y dispersan en el solvente, lo que incrementa la cantidad de posiciones y configuraciones posibles para las partículas en la solución, aumentando la entropía del sistema.\n",
        "\n"
      ],
      "metadata": {
        "id": "DMjbNoyZTul6"
      }
    },
    {
      "cell_type": "markdown",
      "source": [
        "Unidades de concentración"
      ],
      "metadata": {
        "id": "e9dIOnZFUKZy"
      }
    },
    {
      "cell_type": "markdown",
      "source": [
        "12.13. Defina los siguientes términos de concentración y especifique sus unidades: \"porcentaje en masa\", \"fracción molar\", \"molaridad\" y \"molalidad\". Compare sus ventajas y desventajas.\n",
        "\n",
        "\n",
        "*   Porcentaje en masa: Se define como la masa del soluto dividida por la masa total de la solución, multiplicada por 100. Se expresa en porcentaje (%). Su fórmula es: % en masa = (masa del soluto / masa total de la solución) x 100.\n",
        "\n",
        "\n",
        "*   Fracción Molar: Se define como la relación de la cantidad de moles de un componente (soluto o solvente) en una solución respecto al total de moles en la solución. No tiene unidades, ya que es una relación adimensional. Su fórmula es: Fracción molar = (moles del componente / moles totales en la solución).\n",
        "\n",
        "\n",
        "*   Molaridad (M): La molaridad es la cantidad de moles de soluto por litro de solución. Sus unidades son moles por litro (mol/L). Su fórmula es: Molaridad (M) = Moles de soluto / Volumen de la solución (L).\n",
        "\n",
        "\n",
        "*   Molalidad (m): La molalidad es la cantidad de moles de soluto por kilogramo de solvente. Sus unidades son mol/kg. Su fórmula es: Molalidad (m) = Moles de soluto / Masa del solvente (kg).\n",
        "\n",
        "Ventajas y Desventajas:\n",
        "\n",
        "\n",
        "*   Porcentaje en masa es fácil de calcular y comunicar, pero depende de la temperatura y la presión, lo que puede ser una desventaja si las condiciones cambian.\n",
        "\n",
        "\n",
        "*   Fracción molar es independiente de las condiciones y es útil para cálculos en sistemas químicos, pero puede ser menos intuitivo para algunas personas.\n",
        "*   Molaridad es común en química y se utiliza en reacciones químicas, pero es sensible a cambios en el volumen debido a la temperatura y la presión.\n",
        "\n",
        "\n",
        "*   Molalidad es útil en la preparación de soluciones a temperatura constante y no depende del volumen, pero es menos común y puede ser complicado de usar en ciertas aplicaciones."
      ],
      "metadata": {
        "id": "0MFkyJ8-UMpB"
      }
    },
    {
      "cell_type": "markdown",
      "source": [
        "12.14. Describa brevemente los pasos que se requieren para la conversión entre molaridad, molalidad y porcentaje en masa.\n",
        "\n",
        "\n",
        "*   Para convertir de molaridad (M) a molalidad (m), primero, debe conocer la densidad del solvente. Luego, utilice la fórmula: m = M / (1 + (D x M)), donde D es la densidad en g/mL y M es la molaridad.\n",
        "\n",
        "*   Para convertir de molaridad (M) a porcentaje en masa (% en masa), debe conocer la masa molar del soluto. Use la fórmula: % en masa = (M x Masa molar del soluto) / 1000, donde M es la molaridad.\n",
        "\n",
        "*   Para convertir de molalidad (m) a molaridad (M), necesita conocer la densidad del solvente. Utilice la fórmula: M = m / (1 - (D x m)), donde D es la densidad en g/mL y m es la molalidad.\n",
        "\n",
        "*   Para convertir de porcentaje en masa (% en masa) a molaridad (M), utilice la fórmula: M = (100 x (Masa del soluto / Masa molar del soluto)) / Volumen de la solución en litros."
      ],
      "metadata": {
        "id": "tWrAnSdOV1ra"
      }
    },
    {
      "cell_type": "markdown",
      "source": [
        "12.15. Calcule el porcentaje en masa del soluto en cada una de las siguientes disoluiones acuosas: a) 5.50 g de NaBr en 78.2 g de disolución. b) 31.0 g de KCl en 152 g de agua. c) 4.5 g de tolueno en 29 g de benceno."
      ],
      "metadata": {
        "id": "Krvk24jVWRuy"
      }
    },
    {
      "cell_type": "code",
      "source": [
        "def porcentaje_masa(masa_soluto, masa_solvente):\n",
        "    porcentaje = (masa_soluto / (masa_soluto + masa_solvente)) * 100\n",
        "    return porcentaje\n",
        "\n",
        "# Datos de las disoluciones\n",
        "masa_soluto_a = 5.50  # g\n",
        "masa_solvente_a = 78.2  # g\n",
        "\n",
        "masa_soluto_b = 31.0  # g\n",
        "masa_solvente_b = 152  # g\n",
        "\n",
        "masa_soluto_c = 4.5  # g\n",
        "masa_solvente_c = 29  # g\n",
        "\n",
        "# Cálculo del porcentaje en masa utilizando la función\n",
        "porcentaje_a = porcentaje_masa(masa_soluto_a, masa_solvente_a)\n",
        "porcentaje_b = porcentaje_masa(masa_soluto_b, masa_solvente_b)\n",
        "porcentaje_c = porcentaje_masa(masa_soluto_c, masa_solvente_c)\n",
        "\n",
        "print(\"Porcentaje en masa para a):\", porcentaje_a, \"%\")\n",
        "print(\"Porcentaje en masa para b):\", porcentaje_b, \"%\")\n",
        "print(\"Porcentaje en masa para c):\", porcentaje_c, \"%\")"
      ],
      "metadata": {
        "colab": {
          "base_uri": "https://localhost:8080/"
        },
        "id": "WgZuhp8-WsV6",
        "outputId": "97569d6a-cdc2-429b-acc1-5163b530b89f"
      },
      "execution_count": null,
      "outputs": [
        {
          "output_type": "stream",
          "name": "stdout",
          "text": [
            "Porcentaje en masa para a): 6.571087216248506 %\n",
            "Porcentaje en masa para b): 16.939890710382514 %\n",
            "Porcentaje en masa para c): 13.432835820895523 %\n"
          ]
        }
      ]
    },
    {
      "cell_type": "markdown",
      "source": [
        "12.16. Calcule la cantidad de agua (en gramos) que se debe agregar a: a) 5.00 g de urea (NH2)2CO para preparar una disolucion al 16.2% en masa y b) 26.2 g de MgCl2 para preparar una disolución al 1.5% en masa."
      ],
      "metadata": {
        "id": "hzMGFCysXeyy"
      }
    },
    {
      "cell_type": "code",
      "source": [
        "# a)\n",
        "masa_urea = 5.00  # g\n",
        "concentracion_deseada_a = 16.2  # %\n",
        "\n",
        "masa_agua_a = (masa_urea / (concentracion_deseada_a / 100)) - masa_urea\n",
        "\n",
        "print(f\"Para a), se deben agregar {masa_agua_a:.2f} g de agua.\")\n",
        "\n",
        "# b)\n",
        "masa_MgCl2 = 26.2  # g\n",
        "concentracion_deseada_b = 1.5  # %\n",
        "\n",
        "masa_agua_b = (masa_MgCl2 / (concentracion_deseada_b / 100)) - masa_MgCl2\n",
        "\n",
        "print(f\"Para b), se deben agregar {masa_agua_b:.2f} g de agua.\")\n"
      ],
      "metadata": {
        "colab": {
          "base_uri": "https://localhost:8080/"
        },
        "id": "Jq7KbTLFYElC",
        "outputId": "4b0bdb1a-4539-4313-dbdf-361d0442bf78"
      },
      "execution_count": null,
      "outputs": [
        {
          "output_type": "stream",
          "name": "stdout",
          "text": [
            "Para a), se deben agregar 25.86 g de agua.\n",
            "Para b), se deben agregar 1720.47 g de agua.\n"
          ]
        }
      ]
    },
    {
      "cell_type": "markdown",
      "source": [
        "12.17. Calcule la molalidad de cada una de las siguientes disoluciones: a) 14.3 g de sacarosa (C12H22O11) en 676 g de agua, b) 7.20 moles de etilenglicol (C2H6O2) en 3546 g de agua."
      ],
      "metadata": {
        "id": "snxQq3-5ZCdZ"
      }
    },
    {
      "cell_type": "code",
      "source": [
        "# a)\n",
        "masa_sacarosa = 14.3  # g\n",
        "masa_agua_a = 676  # g\n",
        "masa_molar_sacarosa = 342.3  # g/mol\n",
        "\n",
        "moles_sacarosa = masa_sacarosa / masa_molar_sacarosa\n",
        "\n",
        "masa_agua_kg_a = masa_agua_a / 1000\n",
        "\n",
        "molalidad_a = moles_sacarosa / masa_agua_kg_a\n",
        "\n",
        "print(f\"a) La molalidad de la solución es {molalidad_a:.2f} mol/kg.\")\n",
        "\n",
        "# b)\n",
        "masa_etilenglicol = 7.20  # moles\n",
        "masa_agua_b = 3546  # g\n",
        "\n",
        "masa_agua_kg_b = masa_agua_b / 1000\n",
        "\n",
        "molalidad_b = masa_etilenglicol / masa_agua_kg_b\n",
        "\n",
        "print(f\"b) La molalidad de la solución es {molalidad_b:.2f} mol/kg.\")\n"
      ],
      "metadata": {
        "colab": {
          "base_uri": "https://localhost:8080/"
        },
        "id": "yvZkyox0ZXqE",
        "outputId": "f5f9148b-b72d-4cdf-f3d6-7f0a1729847c"
      },
      "execution_count": null,
      "outputs": [
        {
          "output_type": "stream",
          "name": "stdout",
          "text": [
            "a) La molalidad de la solución es 0.06 mol/kg.\n",
            "b) La molalidad de la solución es 2.03 mol/kg.\n"
          ]
        }
      ]
    },
    {
      "cell_type": "markdown",
      "source": [
        "12.18. Calcule la molalidad de cada una de las siguientes disoluciones acuosas: a) disolución de NaCl 2.50 M (densidad de la disolución = 1.08 g/mL), b) disolución de KBr al 48.2% en masa."
      ],
      "metadata": {
        "id": "fLqdcQ7-Zqia"
      }
    },
    {
      "cell_type": "code",
      "source": [
        "# Datos NaCl\n",
        "concentracion_NaCl = 2.50  # M\n",
        "volumen_NaCl = 1  # litro\n",
        "densidad_NaCl = 1.08  # g/mL\n",
        "\n",
        "# Datos KBr\n",
        "porcentaje_masa_KBr = 48.2  # %\n",
        "masa_total_KBr = 100  # g\n",
        "masa_molar_K = 39.10  # g/mol\n",
        "masa_molar_Br = 79.90  # g/mol\n",
        "\n",
        "# Molalidad NaCl\n",
        "moles_NaCl = concentracion_NaCl * volumen_NaCl\n",
        "densidad_NaCl_kg_per_L = densidad_NaCl / 1000\n",
        "masa_disolvente_NaCl = densidad_NaCl_kg_per_L * volumen_NaCl\n",
        "molalidad_NaCl = moles_NaCl / masa_disolvente_NaCl\n",
        "\n",
        "# Molalidad KBr\n",
        "moles_KBr = (porcentaje_masa_KBr / 100) * masa_total_KBr / (masa_molar_K + masa_molar_Br)\n",
        "masa_disolvente_KBr = masa_total_KBr - (porcentaje_masa_KBr / 100) * masa_total_KBr\n",
        "masa_disolvente_KBr_kg = masa_disolvente_KBr / 1000\n",
        "molalidad_KBr = moles_KBr / masa_disolvente_KBr_kg\n",
        "\n",
        "print(f'Molalidad de la disolución de NaCl: {molalidad_NaCl:.2f} mol/kg')\n",
        "print(f'Molalidad de la disolución de KBr: {molalidad_KBr:.2f} mol/kg')\n"
      ],
      "metadata": {
        "colab": {
          "base_uri": "https://localhost:8080/"
        },
        "id": "qoTT1UxPaBgp",
        "outputId": "97a747f7-9789-4cc4-b415-249db3843b80"
      },
      "execution_count": null,
      "outputs": [
        {
          "output_type": "stream",
          "name": "stdout",
          "text": [
            "Molalidad de la disolución de NaCl: 2314.81 mol/kg\n",
            "Molalidad de la disolución de KBr: 7.82 mol/kg\n"
          ]
        }
      ]
    },
    {
      "cell_type": "markdown",
      "source": [
        "Efecto de la temperatura en la solubilidad"
      ],
      "metadata": {
        "id": "AxGzkHPyaGzA"
      }
    },
    {
      "cell_type": "markdown",
      "source": [
        "12.27. Una muestra de 3.20 g de sal se disuelve en 9.10 g de agua para formar una disolución saturada a 25°C. ¿Cuál es la solubilidad (en g de sal/100 g de H2O) de la sal?"
      ],
      "metadata": {
        "id": "_fAbYVHNaHQJ"
      }
    },
    {
      "cell_type": "code",
      "source": [
        "masa_sal = 3.20  # g\n",
        "masa_agua = 9.10  # g\n",
        "\n",
        "solubilidad = (masa_sal / masa_agua) * 100\n",
        "\n",
        "print(f'Solubilidad de la sal a 25°C: {solubilidad:.2f} g de sal/100 g de agua')\n"
      ],
      "metadata": {
        "colab": {
          "base_uri": "https://localhost:8080/"
        },
        "id": "RIeUfupGa6wI",
        "outputId": "bd1bb9d2-1d55-4751-dfcc-195125e1e08b"
      },
      "execution_count": null,
      "outputs": [
        {
          "output_type": "stream",
          "name": "stdout",
          "text": [
            "Solubilidad de la sal a 25°C: 35.16 g de sal/100 g de agua\n"
          ]
        }
      ]
    }
  ]
}
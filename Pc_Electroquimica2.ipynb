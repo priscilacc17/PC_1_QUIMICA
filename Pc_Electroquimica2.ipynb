{
  "nbformat": 4,
  "nbformat_minor": 0,
  "metadata": {
    "colab": {
      "provenance": [],
      "authorship_tag": "ABX9TyPEZDaVF/m99hphw5nl6Mf6",
      "include_colab_link": true
    },
    "kernelspec": {
      "name": "python3",
      "display_name": "Python 3"
    },
    "language_info": {
      "name": "python"
    }
  },
  "cells": [
    {
      "cell_type": "markdown",
      "metadata": {
        "id": "view-in-github",
        "colab_type": "text"
      },
      "source": [
        "<a href=\"https://colab.research.google.com/github/priscilacc17/PRACTICAS_QUIMICA/blob/main/Pc_Electroquimica2.ipynb\" target=\"_parent\"><img src=\"https://colab.research.google.com/assets/colab-badge.svg\" alt=\"Open In Colab\"/></a>"
      ]
    },
    {
      "cell_type": "markdown",
      "source": [
        "En el siguiente cuaderno se muestra un código para comparar semireacciones e indicar (recomendar) un electrodo de sacrificio."
      ],
      "metadata": {
        "id": "m7mYYpyDOwDL"
      }
    },
    {
      "cell_type": "code",
      "execution_count": 12,
      "metadata": {
        "colab": {
          "base_uri": "https://localhost:8080/"
        },
        "id": "u9qtW33vJijK",
        "outputId": "769a476a-d5a4-406f-e43b-54024eb6b52b"
      },
      "outputs": [
        {
          "output_type": "stream",
          "name": "stdout",
          "text": [
            "Ingrese el primer elemento: Ca\n",
            "Ingrese el segundo elemento: Au\n",
            "El elemento con menor energía potencial es: Ca\n",
            "Elementos que pueden ser sacrificados para salvar al elemento con menor energía potencial: \n",
            "['Li', 'K', 'Rb', 'Cs', 'Sr', 'Ba', 'Ra']\n"
          ]
        }
      ],
      "source": [
        "# Diccionario de elementos químicos con sus respectivos niveles de energía potencial\n",
        "energias_potenciales = {\n",
        "    'Li': -3.04,\n",
        "    'Na': -2.71,\n",
        "    'K': -2.92,\n",
        "    'Rb': -2.92,\n",
        "    'Cs': -2.91,\n",
        "    'Ca': -2.87,\n",
        "    'Sr': -2.89,\n",
        "    'Ba': -2.91,\n",
        "    'Ra': -2.90,\n",
        "    'Al': -1.66,\n",
        "    'Cr': -0.74,\n",
        "    'Mn': -1.18,\n",
        "    'Fe': -0.44,\n",
        "    'Co': -0.28,\n",
        "    'Ni': -0.23,\n",
        "    'Sn': -0.14,\n",
        "    'Pb': -0.13,\n",
        "    'Cu': 0.34,\n",
        "    'Hg': 0.85,\n",
        "    'Ag': 0.80,\n",
        "    'Au': 1.50,\n",
        "    'Pt': 1.20\n",
        "}\n",
        "\n",
        "# Obtener la energia potencial de dos elementos\n",
        "# Devuelve el elemento con menor energía\n",
        "def obtener_energia_potencial(elemento1, elemento2):\n",
        "  if energias_potenciales[elemento1] < energias_potenciales[elemento2]:\n",
        "    elemento_menor = elemento1\n",
        "  elif energias_potenciales[elemento2] < energias_potenciales[elemento1]:\n",
        "    elemento_menor = elemento2\n",
        "  else:\n",
        "    print(\"Los elementos tienen la misma energía potencial.\")\n",
        "    return None\n",
        "\n",
        "  return elemento_menor\n",
        "\n",
        "elemento1 = input(\"Ingrese el primer elemento: \")\n",
        "elemento2 = input(\"Ingrese el segundo elemento: \")\n",
        "\n",
        "# Obtener el elemento con menor energía potencial\n",
        "elemento_menor = obtener_energia_potencial(elemento1, elemento2)\n",
        "\n",
        "if elemento_menor is not None:\n",
        "  print(f\"El elemento con menor energía potencial es: {elemento_menor}\" )\n",
        "\n",
        "  # Filtrar elementos sacrificables\n",
        "  lista_sacrificados = [elemento for elemento, energia in energias_potenciales.items() if energia < energias_potenciales[elemento_menor]]\n",
        "  print(\"Elementos que pueden ser sacrificados para salvar al elemento con menor energía potencial: \")\n",
        "  print(lista_sacrificados)"
      ]
    }
  ]
}